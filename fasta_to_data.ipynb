{
 "cells": [
  {
   "cell_type": "markdown",
   "metadata": {},
   "source": [
    "# This script uses a fasta file and retrieve the most similar matches\n",
    "\n",
    "Since BLAST fails to search for homologous sequences with query larger than ~200kb, first we will try to chunk long sequences larger than 100kb for optimal handling"
   ]
  },
  {
   "cell_type": "code",
   "execution_count": 2,
   "metadata": {},
   "outputs": [],
   "source": [
    "#Import modules from biopython 1.76\n",
    "from Bio import SeqIO"
   ]
  },
  {
   "cell_type": "markdown",
   "metadata": {},
   "source": [
    "Let's explore how many recosrd we will cut into pieces"
   ]
  },
  {
   "cell_type": "code",
   "execution_count": 73,
   "metadata": {},
   "outputs": [
    {
     "name": "stdout",
     "output_type": "stream",
     "text": [
      "gnl|BU-ISCIII|KPN05_000240185_1 502847\n",
      "GGCA\n",
      "gnl|BU-ISCIII|KPN05_000240185_2 433789\n",
      "TCAA\n",
      "gnl|BU-ISCIII|KPN05_000240185_3 327526\n",
      "ACTA\n",
      "gnl|BU-ISCIII|KPN05_000240185_4 276424\n",
      "ACTA\n",
      "gnl|BU-ISCIII|KPN05_000240185_5 271316\n",
      "ATAA\n",
      "gnl|BU-ISCIII|KPN05_000240185_6 270429\n",
      "CAAA\n",
      "gnl|BU-ISCIII|KPN05_000240185_7 260169\n",
      "GGCA\n",
      "gnl|BU-ISCIII|KPN05_000240185_8 243764\n",
      "TGAT\n",
      "gnl|BU-ISCIII|KPN05_000240185_9 235927\n",
      "TGAT\n",
      "gnl|BU-ISCIII|KPN05_000240185_10 214478\n",
      "TTGT\n",
      "gnl|BU-ISCIII|KPN05_000240185_11 206461\n",
      "TGAT\n",
      "gnl|BU-ISCIII|KPN05_000240185_12 204006\n",
      "ACCA\n",
      "gnl|BU-ISCIII|KPN05_000240185_13 192947\n",
      "CATG\n",
      "gnl|BU-ISCIII|KPN05_000240185_14 171545\n",
      "GGCA\n",
      "gnl|BU-ISCIII|KPN05_000240185_15 131924\n",
      "CATG\n",
      "gnl|BU-ISCIII|KPN05_000240185_16 130978\n",
      "TTGT\n",
      "gnl|BU-ISCIII|KPN05_000240185_17 129561\n",
      "CTGG\n",
      "gnl|BU-ISCIII|KPN05_000240185_18 118948\n",
      "TGAT\n"
     ]
    }
   ],
   "source": [
    "fasta_to_chop = SeqIO.parse(open(\"TEST/KPN_FULL.fna\"),\"fasta\")\n",
    "for record_to_chop in fasta_to_chop:\n",
    "    if len(record_to_chop) > 100000:\n",
    "        print(record_to_chop.id, len(record_to_chop))\n",
    "        #print(record_to_chop.seq[0:4])"
   ]
  },
  {
   "cell_type": "code",
   "execution_count": 119,
   "metadata": {},
   "outputs": [
    {
     "name": "stdout",
     "output_type": "stream",
     "text": [
      ">gnl|BU-ISCIII|KPN05_000240185_1_1 100000 5 102847 502847\n",
      ">gnl|BU-ISCIII|KPN05_000240185_1_2 100000 5 102847 502847\n",
      ">gnl|BU-ISCIII|KPN05_000240185_1_3 100000 5 102847 502847\n",
      ">gnl|BU-ISCIII|KPN05_000240185_1_4 100000 5 102847 502847\n",
      ">gnl|BU-ISCIII|KPN05_000240185_1_5 102847 5 102847 502847\n",
      ">gnl|BU-ISCIII|KPN05_000240185_2_1 100000 4 133789 433789\n",
      ">gnl|BU-ISCIII|KPN05_000240185_2_2 100000 4 133789 433789\n",
      ">gnl|BU-ISCIII|KPN05_000240185_2_3 100000 4 133789 433789\n",
      ">gnl|BU-ISCIII|KPN05_000240185_2_4 133789 4 133789 433789\n",
      ">gnl|BU-ISCIII|KPN05_000240185_3_1 100000 3 127526 327526\n",
      ">gnl|BU-ISCIII|KPN05_000240185_3_2 100000 3 127526 327526\n",
      ">gnl|BU-ISCIII|KPN05_000240185_3_3 127526 3 127526 327526\n",
      ">gnl|BU-ISCIII|KPN05_000240185_4_1 100000 3 176424 276424\n",
      ">gnl|BU-ISCIII|KPN05_000240185_4_2 100000 3 176424 276424\n",
      ">gnl|BU-ISCIII|KPN05_000240185_4_3 76424 3 176424 276424\n",
      ">gnl|BU-ISCIII|KPN05_000240185_5_1 100000 3 171316 271316\n",
      ">gnl|BU-ISCIII|KPN05_000240185_5_2 100000 3 171316 271316\n",
      ">gnl|BU-ISCIII|KPN05_000240185_5_3 71316 3 171316 271316\n",
      ">gnl|BU-ISCIII|KPN05_000240185_6_1 100000 3 170429 270429\n",
      ">gnl|BU-ISCIII|KPN05_000240185_6_2 100000 3 170429 270429\n",
      ">gnl|BU-ISCIII|KPN05_000240185_6_3 70429 3 170429 270429\n",
      ">gnl|BU-ISCIII|KPN05_000240185_7_1 100000 3 160169 260169\n",
      ">gnl|BU-ISCIII|KPN05_000240185_7_2 100000 3 160169 260169\n",
      ">gnl|BU-ISCIII|KPN05_000240185_7_3 60169 3 160169 260169\n",
      ">gnl|BU-ISCIII|KPN05_000240185_8_1 100000 2 143764 243764\n",
      ">gnl|BU-ISCIII|KPN05_000240185_8_2 143764 2 143764 243764\n",
      ">gnl|BU-ISCIII|KPN05_000240185_9_1 100000 2 135927 235927\n",
      ">gnl|BU-ISCIII|KPN05_000240185_9_2 135927 2 135927 235927\n",
      ">gnl|BU-ISCIII|KPN05_000240185_10_1 100000 2 114478 214478\n",
      ">gnl|BU-ISCIII|KPN05_000240185_10_2 114478 2 114478 214478\n",
      ">gnl|BU-ISCIII|KPN05_000240185_11_1 100000 2 106461 206461\n",
      ">gnl|BU-ISCIII|KPN05_000240185_11_2 106461 2 106461 206461\n",
      ">gnl|BU-ISCIII|KPN05_000240185_12_1 100000 2 104006 204006\n",
      ">gnl|BU-ISCIII|KPN05_000240185_12_2 104006 2 104006 204006\n",
      ">gnl|BU-ISCIII|KPN05_000240185_13_1 100000 2 192947 192947\n",
      ">gnl|BU-ISCIII|KPN05_000240185_13_2 92947 2 192947 192947\n",
      ">gnl|BU-ISCIII|KPN05_000240185_14_1 100000 2 171545 171545\n",
      ">gnl|BU-ISCIII|KPN05_000240185_14_2 71545 2 171545 171545\n",
      ">gnl|BU-ISCIII|KPN05_000240185_15_1 31924 1 131924 131924\n",
      ">gnl|BU-ISCIII|KPN05_000240185_16_1 30978 1 130978 130978\n",
      ">gnl|BU-ISCIII|KPN05_000240185_17_1 29561 1 129561 129561\n",
      ">gnl|BU-ISCIII|KPN05_000240185_18_1 18948 1 118948 118948\n"
     ]
    }
   ],
   "source": [
    "#Now chop into files\n",
    "#Credits: https://biopython.org/wiki/Split_large_file\n",
    "#for i, batch in enumerate(batch_iterator(fasta_to_chop, 100000)):\n",
    "#    header = record_to_chop.id\n",
    "#    new_header = \"%_%i.fastq\" % (header, (i + 1))\n",
    "#    with open(new_header, \"w\") as handle:\n",
    "#        count = SeqIO.write(batch, handle, \"fasta\")\n",
    "#    print(\"Wrote %i records to %s\" % (count, new_header))\n",
    "\n",
    "fasta_to_chop = SeqIO.parse(open(\"TEST/KPN_FULL.fna\"),\"fasta\")\n",
    "\n",
    "\n",
    "fasta_to_dump = open(\"TEST/KPN_FULL_100000.fna\", 'w').close()\n",
    "\n",
    "fasta_to_dump = open(\"TEST/KPN_FULL_100000.fna\", \"a\")\n",
    "\n",
    "for record_to_chop in fasta_to_chop:\n",
    "    if len(record_to_chop) > 100000:\n",
    "        split_times = round(len(record_to_chop) / 100000)\n",
    "        split_remaining = len(record_to_chop) % 100000\n",
    "        last_chop_legth = (100000 + split_remaining)\n",
    "        fasta_header = str(record_to_chop.id)\n",
    "        \n",
    "        total_splits = split_times + 1\n",
    "        \n",
    "        initial_position = 0\n",
    "        final_position = 100000\n",
    "        \n",
    "        for time_to_split in range(1, total_splits):\n",
    "            \n",
    "            \n",
    "            if time_to_split > 1 and time_to_split < split_times:\n",
    "                initial_position = initial_position + 100000\n",
    "                final_position = final_position + 100000\n",
    "            elif time_to_split == split_times:\n",
    "                initial_position = initial_position + 100000\n",
    "                final_position = final_position + last_chop_legth + 1\n",
    "            \n",
    "            \n",
    "            new_fasta_header = \">\" + fasta_header + \"_\" + str(time_to_split)\n",
    "            new_fasta_sequence = record_to_chop.seq[initial_position:final_position]\n",
    "            \n",
    "                          \n",
    "            fasta_to_dump.write(\"%s\\n%s\\n\" % (new_fasta_header, new_fasta_sequence))\n",
    "            #fasta_to_dump.write(\"%s\\n\" % new_fasta_header)\n",
    "                  \n",
    "            print(new_fasta_header, len(new_fasta_sequence), split_times, last_chop_legth, len(record_to_chop))\n",
    "            #print(record_to_chop.seq[initial_position:final_position])\n",
    "    else:\n",
    "        \n",
    "                  \n",
    "            \n",
    "                  \n",
    "fasta_to_dump.close()\n",
    "        \n",
    "        #print(\"The whole length is %s\" % len(record_to_chop))\n",
    "        #print(\"The record %s will be chopped in %s sequences with the last one having %sbp\" % (fasta_header, split_times, last_chop_legth))        \n",
    "        \n",
    "        #print(repr(fasta_to_chop.seq))"
   ]
  },
  {
   "cell_type": "code",
   "execution_count": 120,
   "metadata": {},
   "outputs": [
    {
     "name": "stdout",
     "output_type": "stream",
     "text": [
      "gnl|BU-ISCIII|KPN05_000240185_1_1 100000\n",
      "gnl|BU-ISCIII|KPN05_000240185_1_2 100000\n",
      "gnl|BU-ISCIII|KPN05_000240185_1_3 100000\n",
      "gnl|BU-ISCIII|KPN05_000240185_1_4 100000\n",
      "gnl|BU-ISCIII|KPN05_000240185_1_5 102847\n",
      "gnl|BU-ISCIII|KPN05_000240185_2_1 100000\n",
      "gnl|BU-ISCIII|KPN05_000240185_2_2 100000\n",
      "gnl|BU-ISCIII|KPN05_000240185_2_3 100000\n",
      "gnl|BU-ISCIII|KPN05_000240185_2_4 133789\n",
      "gnl|BU-ISCIII|KPN05_000240185_3_1 100000\n",
      "gnl|BU-ISCIII|KPN05_000240185_3_2 100000\n",
      "gnl|BU-ISCIII|KPN05_000240185_3_3 127526\n",
      "gnl|BU-ISCIII|KPN05_000240185_4_1 100000\n",
      "gnl|BU-ISCIII|KPN05_000240185_4_2 100000\n",
      "gnl|BU-ISCIII|KPN05_000240185_4_3 76424\n",
      "gnl|BU-ISCIII|KPN05_000240185_5_1 100000\n",
      "gnl|BU-ISCIII|KPN05_000240185_5_2 100000\n",
      "gnl|BU-ISCIII|KPN05_000240185_5_3 71316\n",
      "gnl|BU-ISCIII|KPN05_000240185_6_1 100000\n",
      "gnl|BU-ISCIII|KPN05_000240185_6_2 100000\n",
      "gnl|BU-ISCIII|KPN05_000240185_6_3 70429\n",
      "gnl|BU-ISCIII|KPN05_000240185_7_1 100000\n",
      "gnl|BU-ISCIII|KPN05_000240185_7_2 100000\n",
      "gnl|BU-ISCIII|KPN05_000240185_7_3 60169\n",
      "gnl|BU-ISCIII|KPN05_000240185_8_1 100000\n",
      "gnl|BU-ISCIII|KPN05_000240185_8_2 143764\n",
      "gnl|BU-ISCIII|KPN05_000240185_9_1 100000\n",
      "gnl|BU-ISCIII|KPN05_000240185_9_2 135927\n",
      "gnl|BU-ISCIII|KPN05_000240185_10_1 100000\n",
      "gnl|BU-ISCIII|KPN05_000240185_10_2 114478\n",
      "gnl|BU-ISCIII|KPN05_000240185_11_1 100000\n",
      "gnl|BU-ISCIII|KPN05_000240185_11_2 106461\n",
      "gnl|BU-ISCIII|KPN05_000240185_12_1 100000\n",
      "gnl|BU-ISCIII|KPN05_000240185_12_2 104006\n",
      "gnl|BU-ISCIII|KPN05_000240185_13_1 100000\n",
      "gnl|BU-ISCIII|KPN05_000240185_13_2 92947\n",
      "gnl|BU-ISCIII|KPN05_000240185_14_1 100000\n",
      "gnl|BU-ISCIII|KPN05_000240185_14_2 71545\n",
      "gnl|BU-ISCIII|KPN05_000240185_15_1 31924\n",
      "gnl|BU-ISCIII|KPN05_000240185_16_1 30978\n",
      "gnl|BU-ISCIII|KPN05_000240185_17_1 29561\n",
      "gnl|BU-ISCIII|KPN05_000240185_18_1 18948\n"
     ]
    }
   ],
   "source": [
    "#check that the new file has all the sequences\n",
    "new_fasta = SeqIO.parse(open(\"TEST/KPN_FULL_100000.fna\"),\"fasta\")\n",
    "for record in new_fasta:\n",
    "    print(record.id, len(record))"
   ]
  },
  {
   "cell_type": "code",
   "execution_count": null,
   "metadata": {},
   "outputs": [],
   "source": [
    "define: record name, record split, header, new header, length of sequence\n",
    "split fasta using index"
   ]
  }
 ],
 "metadata": {
  "kernelspec": {
   "display_name": "Python 3",
   "language": "python",
   "name": "python3"
  },
  "language_info": {
   "codemirror_mode": {
    "name": "ipython",
    "version": 3
   },
   "file_extension": ".py",
   "mimetype": "text/x-python",
   "name": "python",
   "nbconvert_exporter": "python",
   "pygments_lexer": "ipython3",
   "version": "3.6.7"
  }
 },
 "nbformat": 4,
 "nbformat_minor": 2
}
