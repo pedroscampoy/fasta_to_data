{
 "cells": [
  {
   "cell_type": "markdown",
   "metadata": {},
   "source": [
    "# This script uses a fasta file and retrieve the most similar matches\n",
    "\n",
    "Since BLAST fails to search for homologous sequences with query larger than ~200kb, first we will try to chunk long sequences larger than 100kb for optimal handling"
   ]
  },
  {
   "cell_type": "code",
   "execution_count": 143,
   "metadata": {},
   "outputs": [],
   "source": [
    "#Import modules from biopython 1.76\n",
    "from Bio import SeqIO\n",
    "from Bio.Blast import NCBIWWW"
   ]
  },
  {
   "cell_type": "markdown",
   "metadata": {},
   "source": [
    "Let's explore how many recosrd we will cut into pieces"
   ]
  },
  {
   "cell_type": "code",
   "execution_count": 139,
   "metadata": {},
   "outputs": [
    {
     "name": "stdout",
     "output_type": "stream",
     "text": [
      "gnl|BU-ISCIII|KPN05_000240185_1 502847\n",
      "gnl|BU-ISCIII|KPN05_000240185_2 433789\n",
      "gnl|BU-ISCIII|KPN05_000240185_3 327526\n",
      "gnl|BU-ISCIII|KPN05_000240185_4 276424\n",
      "gnl|BU-ISCIII|KPN05_000240185_5 271316\n",
      "gnl|BU-ISCIII|KPN05_000240185_6 270429\n",
      "gnl|BU-ISCIII|KPN05_000240185_7 260169\n",
      "gnl|BU-ISCIII|KPN05_000240185_8 243764\n",
      "gnl|BU-ISCIII|KPN05_000240185_9 235927\n",
      "gnl|BU-ISCIII|KPN05_000240185_10 214478\n",
      "gnl|BU-ISCIII|KPN05_000240185_11 206461\n",
      "gnl|BU-ISCIII|KPN05_000240185_12 204006\n",
      "gnl|BU-ISCIII|KPN05_000240185_13 192947\n",
      "gnl|BU-ISCIII|KPN05_000240185_14 171545\n",
      "gnl|BU-ISCIII|KPN05_000240185_15 131924\n",
      "gnl|BU-ISCIII|KPN05_000240185_16 130978\n",
      "gnl|BU-ISCIII|KPN05_000240185_17 129561\n",
      "gnl|BU-ISCIII|KPN05_000240185_18 118948\n"
     ]
    }
   ],
   "source": [
    "fasta_to_chop = SeqIO.parse(open(\"TEST/KPN_FULL.fna\"),\"fasta\")\n",
    "for record_to_chop in fasta_to_chop:\n",
    "    if len(record_to_chop) > 100000:\n",
    "        print(record_to_chop.id, len(record_to_chop))\n",
    "        #print(record_to_chop.seq[0:4])"
   ]
  },
  {
   "cell_type": "code",
   "execution_count": 144,
   "metadata": {},
   "outputs": [],
   "source": [
    "#Now chop into files\n",
    "#Credits: https://biopython.org/wiki/Split_large_file\n",
    "#for i, batch in enumerate(batch_iterator(fasta_to_chop, 100000)):\n",
    "#    header = record_to_chop.id\n",
    "#    new_header = \"%_%i.fastq\" % (header, (i + 1))\n",
    "#    with open(new_header, \"w\") as handle:\n",
    "#        count = SeqIO.write(batch, handle, \"fasta\")\n",
    "#    print(\"Wrote %i records to %s\" % (count, new_header))\n",
    "\n",
    "fasta_to_chop = SeqIO.parse(open(\"TEST/KPN_FULL.fna\"),\"fasta\")\n",
    "\n",
    "#Reset file if exist\n",
    "fasta_to_dump = open(\"TEST/KPN_FULL_100000.fna\", 'w').close()\n",
    "\n",
    "fasta_to_dump = open(\"TEST/KPN_FULL_100000.fna\", \"a\")\n",
    "\n",
    "for record_to_chop in fasta_to_chop:\n",
    "    \n",
    "    fasta_header = str(record_to_chop.id)\n",
    "    \n",
    "    \n",
    "    if len(record_to_chop) > 100000:\n",
    "        split_times = round(len(record_to_chop) / 100000)\n",
    "        split_remaining = len(record_to_chop) % 100000\n",
    "        last_chop_legth = (100000 + split_remaining)\n",
    "        \n",
    "        \n",
    "        total_splits = split_times + 1\n",
    "        \n",
    "        initial_position = 0\n",
    "        final_position = 100000\n",
    "        \n",
    "        for time_to_split in range(1, total_splits):\n",
    "            \n",
    "            \n",
    "            if time_to_split > 1 and time_to_split < split_times:\n",
    "                initial_position = initial_position + 100000\n",
    "                final_position = final_position + 100000\n",
    "            elif time_to_split == split_times and split_times == 1:\n",
    "                initial_position = 0\n",
    "                final_position = final_position + split_remaining + 1\n",
    "            elif time_to_split == split_times:\n",
    "                initial_position = initial_position + 100000\n",
    "                final_position = final_position + last_chop_legth + 1\n",
    "                \n",
    "            #print(initial_position, final_position)\n",
    "            \n",
    "            new_fasta_header = \">\" + fasta_header + \"_\" + str(time_to_split)\n",
    "            new_fasta_sequence = record_to_chop.seq[initial_position:final_position]\n",
    "            \n",
    "                          \n",
    "            fasta_to_dump.write(\"%s\\n%s\\n\" % (new_fasta_header, new_fasta_sequence))\n",
    "            #fasta_to_dump.write(\"%s\\n\" % new_fasta_header)\n",
    "                  \n",
    "            #print(new_fasta_header, len(new_fasta_sequence), split_times, last_chop_legth, len(record_to_chop))\n",
    "            #print(record_to_chop.seq[initial_position:final_position])\n",
    "    else:\n",
    "        last_chop_legth = 0\n",
    "        \n",
    "        fasta_to_dump.write(\">%s\\n%s\\n\" % (fasta_header, record_to_chop.seq))\n",
    "        #print(fasta_header, len(record_to_chop), split_times, last_chop_legth, len(record_to_chop))\n",
    "                  \n",
    "                 \n",
    "fasta_to_dump.close()\n",
    "        \n",
    "        #print(\"The whole length is %s\" % len(record_to_chop))\n",
    "        #print(\"The record %s will be chopped in %s sequences with the last one having %sbp\" % (fasta_header, split_times, last_chop_legth))        \n",
    "        \n",
    "        #print(repr(fasta_to_chop.seq))"
   ]
  },
  {
   "cell_type": "code",
   "execution_count": null,
   "metadata": {},
   "outputs": [],
   "source": [
    "#check that the new file has all the sequences\n",
    "new_fasta = SeqIO.parse(open(\"TEST/KPN_FULL_100000.fna\"),\"fasta\")\n",
    "for record in new_fasta:\n",
    "    print(record.id, len(record))"
   ]
  },
  {
   "cell_type": "code",
   "execution_count": null,
   "metadata": {},
   "outputs": [],
   "source": []
  },
  {
   "cell_type": "code",
   "execution_count": null,
   "metadata": {},
   "outputs": [],
   "source": []
  }
 ],
 "metadata": {
  "kernelspec": {
   "display_name": "Python 3",
   "language": "python",
   "name": "python3"
  },
  "language_info": {
   "codemirror_mode": {
    "name": "ipython",
    "version": 3
   },
   "file_extension": ".py",
   "mimetype": "text/x-python",
   "name": "python",
   "nbconvert_exporter": "python",
   "pygments_lexer": "ipython3",
   "version": "3.6.7"
  }
 },
 "nbformat": 4,
 "nbformat_minor": 2
}
