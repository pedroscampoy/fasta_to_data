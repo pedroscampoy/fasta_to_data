{
 "cells": [
  {
   "cell_type": "code",
   "execution_count": 62,
   "metadata": {},
   "outputs": [
    {
     "ename": "ModuleNotFoundError",
     "evalue": "No module named 'Bio'",
     "output_type": "error",
     "traceback": [
      "\u001b[0;31m---------------------------------------------------------------------------\u001b[0m",
      "\u001b[0;31mModuleNotFoundError\u001b[0m                       Traceback (most recent call last)",
      "\u001b[0;32m<ipython-input-62-7bf2cceb7d42>\u001b[0m in \u001b[0;36m<module>\u001b[0;34m\u001b[0m\n\u001b[1;32m      1\u001b[0m \u001b[0;32mimport\u001b[0m \u001b[0mpandas\u001b[0m \u001b[0;32mas\u001b[0m \u001b[0mpd\u001b[0m\u001b[0;34m\u001b[0m\u001b[0;34m\u001b[0m\u001b[0m\n\u001b[0;32m----> 2\u001b[0;31m \u001b[0;32mimport\u001b[0m \u001b[0mBio\u001b[0m\u001b[0;34m\u001b[0m\u001b[0;34m\u001b[0m\u001b[0m\n\u001b[0m\u001b[1;32m      3\u001b[0m \u001b[0;32mfrom\u001b[0m \u001b[0mBio\u001b[0m \u001b[0;32mimport\u001b[0m \u001b[0mEntre\u001b[0m\u001b[0;34m\u001b[0m\u001b[0;34m\u001b[0m\u001b[0m\n\u001b[1;32m      4\u001b[0m \u001b[0;32mimport\u001b[0m \u001b[0mdatetime\u001b[0m\u001b[0;34m\u001b[0m\u001b[0;34m\u001b[0m\u001b[0m\n",
      "\u001b[0;31mModuleNotFoundError\u001b[0m: No module named 'Bio'"
     ]
    }
   ],
   "source": [
    "import pandas as pd\n",
    "import Bio\n",
    "from Bio import Entre\n",
    "import datetime\n"
   ]
  },
  {
   "cell_type": "code",
   "execution_count": 59,
   "metadata": {},
   "outputs": [
    {
     "name": "stdout",
     "output_type": "stream",
     "text": [
      "biopython==1.74\n",
      "certifi==2019.11.28\n",
      "mkl-fft==1.0.15\n",
      "mkl-random==1.1.0\n",
      "mkl-service==2.3.0\n",
      "numpy==1.18.1\n",
      "pandas==1.0.0\n",
      "python-dateutil==2.8.1\n",
      "pytz==2019.3\n",
      "six==1.14.0\n"
     ]
    }
   ],
   "source": [
    "%%bash\n",
    "\n",
    "pip freeze\n"
   ]
  },
  {
   "cell_type": "code",
   "execution_count": 6,
   "metadata": {},
   "outputs": [],
   "source": [
    "today = str(datetime.date.today())\n",
    "plasmid_file = today + \"_plasmids.txt\""
   ]
  },
  {
   "cell_type": "code",
   "execution_count": 7,
   "metadata": {},
   "outputs": [
    {
     "data": {
      "text/plain": [
       "'2020-02-02_plasmids.txt'"
      ]
     },
     "execution_count": 7,
     "metadata": {},
     "output_type": "execute_result"
    }
   ],
   "source": [
    "plasmid_file"
   ]
  },
  {
   "cell_type": "code",
   "execution_count": 10,
   "metadata": {},
   "outputs": [
    {
     "ename": "AttributeError",
     "evalue": "module 'urllib' has no attribute 'urlretrieve'",
     "output_type": "error",
     "traceback": [
      "\u001b[0;31m---------------------------------------------------------------------------\u001b[0m",
      "\u001b[0;31mAttributeError\u001b[0m                            Traceback (most recent call last)",
      "\u001b[0;32m<ipython-input-10-8c375dbc7455>\u001b[0m in \u001b[0;36m<module>\u001b[0;34m\u001b[0m\n\u001b[1;32m      1\u001b[0m \u001b[0;32mwith\u001b[0m \u001b[0mopen\u001b[0m \u001b[0;34m(\u001b[0m\u001b[0mplasmid_file\u001b[0m\u001b[0;34m,\u001b[0m \u001b[0;34m'w+'\u001b[0m\u001b[0;34m)\u001b[0m \u001b[0;32mas\u001b[0m \u001b[0moutfile\u001b[0m\u001b[0;34m:\u001b[0m\u001b[0;34m\u001b[0m\u001b[0;34m\u001b[0m\u001b[0m\n\u001b[0;32m----> 2\u001b[0;31m     \u001b[0murllib\u001b[0m\u001b[0;34m.\u001b[0m\u001b[0murlretrieve\u001b[0m\u001b[0;34m(\u001b[0m\u001b[0;34m'ftp://ftp.ncbi.nlm.nih.gov/genomes/GENOME_REPORTS/plasmids.txt'\u001b[0m\u001b[0;34m,\u001b[0m \u001b[0;34m'plasmid_file'\u001b[0m\u001b[0;34m)\u001b[0m\u001b[0;34m\u001b[0m\u001b[0;34m\u001b[0m\u001b[0m\n\u001b[0m",
      "\u001b[0;31mAttributeError\u001b[0m: module 'urllib' has no attribute 'urlretrieve'"
     ]
    }
   ],
   "source": [
    "with open (plasmid_file, 'w+') as outfile:\n",
    "    urllib.urlretrieve('ftp://ftp.ncbi.nlm.nih.gov/genomes/GENOME_REPORTS/plasmids.txt', 'plasmid_file')\n"
   ]
  },
  {
   "cell_type": "code",
   "execution_count": 14,
   "metadata": {},
   "outputs": [],
   "source": [
    "df = pd.read_csv('ftp://ftp.ncbi.nlm.nih.gov/genomes/GENOME_REPORTS/plasmids.txt', sep='\\t')"
   ]
  },
  {
   "cell_type": "code",
   "execution_count": 28,
   "metadata": {},
   "outputs": [
    {
     "data": {
      "text/html": [
       "<div>\n",
       "<style scoped>\n",
       "    .dataframe tbody tr th:only-of-type {\n",
       "        vertical-align: middle;\n",
       "    }\n",
       "\n",
       "    .dataframe tbody tr th {\n",
       "        vertical-align: top;\n",
       "    }\n",
       "\n",
       "    .dataframe thead th {\n",
       "        text-align: right;\n",
       "    }\n",
       "</style>\n",
       "<table border=\"1\" class=\"dataframe\">\n",
       "  <thead>\n",
       "    <tr style=\"text-align: right;\">\n",
       "      <th></th>\n",
       "      <th>#Organism/Name</th>\n",
       "      <th>Kingdom</th>\n",
       "      <th>Group</th>\n",
       "      <th>SubGroup</th>\n",
       "      <th>Plasmid Name</th>\n",
       "      <th>RefSeq</th>\n",
       "      <th>INSDC</th>\n",
       "      <th>Size (Kb)</th>\n",
       "      <th>GC%</th>\n",
       "      <th>Protein</th>\n",
       "      <th>rRNA</th>\n",
       "      <th>tRNA</th>\n",
       "      <th>Other RNA</th>\n",
       "      <th>Gene</th>\n",
       "      <th>Pseudogene</th>\n",
       "    </tr>\n",
       "  </thead>\n",
       "  <tbody>\n",
       "    <tr>\n",
       "      <th>0</th>\n",
       "      <td>Acaryochloris marina MBIC11017</td>\n",
       "      <td>Bacteria</td>\n",
       "      <td>Terrabacteria group</td>\n",
       "      <td>Cyanobacteria/Melainabacteria group</td>\n",
       "      <td>pREB1</td>\n",
       "      <td>NC_009926.1</td>\n",
       "      <td>CP000838</td>\n",
       "      <td>374.161</td>\n",
       "      <td>47.3483</td>\n",
       "      <td>284</td>\n",
       "      <td>-</td>\n",
       "      <td>-</td>\n",
       "      <td>-</td>\n",
       "      <td>325</td>\n",
       "      <td>41</td>\n",
       "    </tr>\n",
       "    <tr>\n",
       "      <th>1</th>\n",
       "      <td>Acaryochloris marina MBIC11017</td>\n",
       "      <td>Bacteria</td>\n",
       "      <td>Terrabacteria group</td>\n",
       "      <td>Cyanobacteria/Melainabacteria group</td>\n",
       "      <td>pREB2</td>\n",
       "      <td>NC_009927.1</td>\n",
       "      <td>CP000839</td>\n",
       "      <td>356.087</td>\n",
       "      <td>45.3367</td>\n",
       "      <td>320</td>\n",
       "      <td>-</td>\n",
       "      <td>-</td>\n",
       "      <td>-</td>\n",
       "      <td>357</td>\n",
       "      <td>37</td>\n",
       "    </tr>\n",
       "    <tr>\n",
       "      <th>2</th>\n",
       "      <td>Acaryochloris marina MBIC11017</td>\n",
       "      <td>Bacteria</td>\n",
       "      <td>Terrabacteria group</td>\n",
       "      <td>Cyanobacteria/Melainabacteria group</td>\n",
       "      <td>pREB3</td>\n",
       "      <td>NC_009928.1</td>\n",
       "      <td>CP000840</td>\n",
       "      <td>273.121</td>\n",
       "      <td>45.1902</td>\n",
       "      <td>241</td>\n",
       "      <td>-</td>\n",
       "      <td>-</td>\n",
       "      <td>-</td>\n",
       "      <td>292</td>\n",
       "      <td>51</td>\n",
       "    </tr>\n",
       "    <tr>\n",
       "      <th>3</th>\n",
       "      <td>Acaryochloris marina MBIC11017</td>\n",
       "      <td>Bacteria</td>\n",
       "      <td>Terrabacteria group</td>\n",
       "      <td>Cyanobacteria/Melainabacteria group</td>\n",
       "      <td>pREB4</td>\n",
       "      <td>NC_009929.1</td>\n",
       "      <td>CP000841</td>\n",
       "      <td>226.680</td>\n",
       "      <td>45.8770</td>\n",
       "      <td>199</td>\n",
       "      <td>-</td>\n",
       "      <td>1</td>\n",
       "      <td>-</td>\n",
       "      <td>222</td>\n",
       "      <td>22</td>\n",
       "    </tr>\n",
       "    <tr>\n",
       "      <th>4</th>\n",
       "      <td>Acaryochloris marina MBIC11017</td>\n",
       "      <td>Bacteria</td>\n",
       "      <td>Terrabacteria group</td>\n",
       "      <td>Cyanobacteria/Melainabacteria group</td>\n",
       "      <td>pREB5</td>\n",
       "      <td>NC_009930.1</td>\n",
       "      <td>CP000842</td>\n",
       "      <td>177.162</td>\n",
       "      <td>44.6755</td>\n",
       "      <td>174</td>\n",
       "      <td>-</td>\n",
       "      <td>-</td>\n",
       "      <td>-</td>\n",
       "      <td>178</td>\n",
       "      <td>4</td>\n",
       "    </tr>\n",
       "  </tbody>\n",
       "</table>\n",
       "</div>"
      ],
      "text/plain": [
       "                   #Organism/Name   Kingdom                Group  \\\n",
       "0  Acaryochloris marina MBIC11017  Bacteria  Terrabacteria group   \n",
       "1  Acaryochloris marina MBIC11017  Bacteria  Terrabacteria group   \n",
       "2  Acaryochloris marina MBIC11017  Bacteria  Terrabacteria group   \n",
       "3  Acaryochloris marina MBIC11017  Bacteria  Terrabacteria group   \n",
       "4  Acaryochloris marina MBIC11017  Bacteria  Terrabacteria group   \n",
       "\n",
       "                              SubGroup Plasmid Name       RefSeq     INSDC  \\\n",
       "0  Cyanobacteria/Melainabacteria group        pREB1  NC_009926.1  CP000838   \n",
       "1  Cyanobacteria/Melainabacteria group        pREB2  NC_009927.1  CP000839   \n",
       "2  Cyanobacteria/Melainabacteria group        pREB3  NC_009928.1  CP000840   \n",
       "3  Cyanobacteria/Melainabacteria group        pREB4  NC_009929.1  CP000841   \n",
       "4  Cyanobacteria/Melainabacteria group        pREB5  NC_009930.1  CP000842   \n",
       "\n",
       "   Size (Kb)      GC% Protein rRNA tRNA Other RNA Gene Pseudogene  \n",
       "0    374.161  47.3483     284    -    -         -  325         41  \n",
       "1    356.087  45.3367     320    -    -         -  357         37  \n",
       "2    273.121  45.1902     241    -    -         -  292         51  \n",
       "3    226.680  45.8770     199    -    1         -  222         22  \n",
       "4    177.162  44.6755     174    -    -         -  178          4  "
      ]
     },
     "execution_count": 28,
     "metadata": {},
     "output_type": "execute_result"
    }
   ],
   "source": [
    "df.head()"
   ]
  },
  {
   "cell_type": "code",
   "execution_count": 39,
   "metadata": {},
   "outputs": [],
   "source": [
    "plasmid_reference = df['RefSeq'][df.RefSeq != \"-\"].tolist() + df['INSDC'][df.RefSeq == \"-\"].tolist()"
   ]
  },
  {
   "cell_type": "code",
   "execution_count": 41,
   "metadata": {},
   "outputs": [
    {
     "name": "stdout",
     "output_type": "stream",
     "text": [
      "20062\n"
     ]
    }
   ],
   "source": [
    "print(len(plasmid_reference))"
   ]
  },
  {
   "cell_type": "code",
   "execution_count": 42,
   "metadata": {},
   "outputs": [
    {
     "data": {
      "text/plain": [
       "(20062, 15)"
      ]
     },
     "execution_count": 42,
     "metadata": {},
     "output_type": "execute_result"
    }
   ],
   "source": [
    "df.shape"
   ]
  },
  {
   "cell_type": "code",
   "execution_count": 30,
   "metadata": {},
   "outputs": [
    {
     "data": {
      "text/plain": [
       "False"
      ]
     },
     "execution_count": 30,
     "metadata": {},
     "output_type": "execute_result"
    }
   ],
   "source": [
    "df.rRNA.isna().any()"
   ]
  },
  {
   "cell_type": "code",
   "execution_count": 37,
   "metadata": {},
   "outputs": [],
   "source": []
  },
  {
   "cell_type": "code",
   "execution_count": 38,
   "metadata": {},
   "outputs": [
    {
     "data": {
      "text/plain": [
       "['A', 'B', 'c']"
      ]
     },
     "execution_count": 38,
     "metadata": {},
     "output_type": "execute_result"
    }
   ],
   "source": [
    "test"
   ]
  },
  {
   "cell_type": "code",
   "execution_count": null,
   "metadata": {},
   "outputs": [],
   "source": []
  }
 ],
 "metadata": {
  "kernelspec": {
   "display_name": "Python 3",
   "language": "python",
   "name": "python3"
  },
  "language_info": {
   "codemirror_mode": {
    "name": "ipython",
    "version": 3
   },
   "file_extension": ".py",
   "mimetype": "text/x-python",
   "name": "python",
   "nbconvert_exporter": "python",
   "pygments_lexer": "ipython3",
   "version": "3.7.1"
  }
 },
 "nbformat": 4,
 "nbformat_minor": 2
}
